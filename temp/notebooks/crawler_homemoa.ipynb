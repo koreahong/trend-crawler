{
 "cells": [
  {
   "cell_type": "code",
   "execution_count": null,
   "metadata": {},
   "outputs": [],
   "source": [
    "import openpyxl \n",
    "import requests\n",
    "from bs4 import BeautifulSoup\n",
    "from selenium import webdriver\n",
    "import re\n",
    "import pandas as pd\n",
    "import time\n",
    "import random\n",
    "import datetime"
   ]
  },
  {
   "cell_type": "code",
   "execution_count": null,
   "metadata": {},
   "outputs": [],
   "source": [
    "# 날짜 '20210505' 10일 후까지 있음 / 20210407부터 상품상세있음\n",
    "date = '20211202'"
   ]
  },
  {
   "cell_type": "code",
   "execution_count": null,
   "metadata": {},
   "outputs": [],
   "source": [
    "path = 'https://hsmoa.com/'+'?date='+date\n",
    "#driver = webdriver.Chrome('../chromedriver')\n",
    "#ㅋdriver.get(path)\n",
    "time.sleep(0.5)"
   ]
  },
  {
   "cell_type": "code",
   "execution_count": null,
   "metadata": {},
   "outputs": [],
   "source": [
    "# 정적 파싱\n",
    "res = requests.get(path)\n",
    "soup = BeautifulSoup(res.content, 'html.parser')\n",
    "# 상품 파싱\n",
    "keywords = list()\n",
    "#keyword = soup.select('div.before_live')\n",
    "keyword = soup.select('div.timeline-group')"
   ]
  },
  {
   "cell_type": "code",
   "execution_count": null,
   "metadata": {},
   "outputs": [],
   "source": [
    "dt_index = pd.date_range(start='20211103', end='20211202')\n",
    "dates = dt_index.strftime(\"%Y%m%d\").tolist()\n",
    "dates"
   ]
  },
  {
   "cell_type": "code",
   "execution_count": null,
   "metadata": {},
   "outputs": [],
   "source": [
    "product_info_all = pd.DataFrame() # 전체 수집파일 저장\n",
    "\n",
    "for date in dates:\n",
    "    path = 'https://hsmoa.com/'+'?date='+date\n",
    "    #driver = webdriver.Chrome('../chromedriver')\n",
    "    #driver.get(path)\n",
    "    time.sleep(0.5)\n",
    "    # 정적 파싱\n",
    "    res = requests.get(path)\n",
    "    soup = BeautifulSoup(res.content, 'html.parser')\n",
    "    keyword = soup.select('div.timeline-group')\n",
    "\n",
    "    # 변수선언\n",
    "    \n",
    "    name_ls = []\n",
    "    price_ls = []\n",
    "    cat_ls = []\n",
    "    start_time_ls = []\n",
    "    end_time_ls = []\n",
    "    timeline_group_ls = []\n",
    "    company_ls = []\n",
    "    category_ls = []\n",
    "    etc_ls = []\n",
    "    url_ls = []\n",
    "    id_ls = []\n",
    "    times_ls = []\n",
    "\n",
    "    # 1일치 수집에 8분. \n",
    "    for data in keyword :\n",
    "        df1 = data.select('div.timeline-item')\n",
    "        for j in range(0,len(df1)):\n",
    "            name = df1[j].select_one('div.font-15').get_text().strip() # 상품명\n",
    "            #상품명 추출하기\n",
    "            price = df1[j].select_one('span.strong').get_text() # 금액\n",
    "            price = re.sub(r'[^0-9]', '', price)    \n",
    "            #가격 추출하기\n",
    "            time1 = df1[j].select_one('span.font-12').get_text() # 시간\n",
    "            time1 = re.sub(r'[^0-9가-힣]', '', time1)\n",
    "            start_time = time1[0:(time1.find('분')+1)]\n",
    "            end_time = time1[(time1.find('분')+1):]\n",
    "            \n",
    "            company = df1[j].get('class')[1] # 홈쇼핑사\n",
    "            category = df1[j].get('class')[2] # 카테고리\n",
    "            #etc = df1[j].get('class')[3] # 기타\n",
    "            \n",
    "            timeline_group = df1[j].find('span','font-12').get_text() # 타임라인시간\n",
    "            timeline_group = re.sub(r'[^0-9가-힣]', '', timeline_group)\n",
    "\n",
    "            url = df1[j].select_one('a.disblock')['href'] # url\n",
    "            url = 'https://hsmoa.com' + url\n",
    "\n",
    "            id = re.sub(r'[^0-9]', '', url)\n",
    "\n",
    "            # 시간계산\n",
    "            try:\n",
    "                end_time_1 = datetime.datetime.strptime(end_time, \"%H시%M분\")\n",
    "                start_time_1 = datetime.datetime.strptime(start_time, \"%H시%M분\")\n",
    "                times = (end_time_1-start_time_1).seconds/60\n",
    "            except:\n",
    "                times = 0 # 계산불가시 0\n",
    "            \n",
    "            # 상품명과 가격을 변수에 저장하기\n",
    "            # keywords.append(product_info)\n",
    "            # 리스트 변수에 append함수 활용하여 리스트 추가\n",
    "            name_ls.append(name)\n",
    "            price_ls.append(price)\n",
    "            start_time_ls.append(start_time)\n",
    "            end_time_ls.append(end_time)\n",
    "            company_ls.append(company)\n",
    "            category_ls.append(category)\n",
    "            #etc_ls.append(etc)\n",
    "            timeline_group_ls.append(timeline_group)\n",
    "            url_ls.append(url)\n",
    "            id_ls.append(id)\n",
    "            times_ls.append(times)\n",
    "\n",
    "        time.sleep(random.randrange(0,3,1)) # 랜덤시간 슬립\n",
    "\n",
    "        product_info = pd.DataFrame({'id':id_ls,'name' : name_ls, 'price':price_ls,'start_time':start_time_ls,'end_time':end_time_ls,'company':company_ls,\n",
    "            'category':category_ls,'timeline_group':timeline_group_ls,'url':url_ls,'times':times_ls}) # 'etc':etc_ls,\n",
    "    print(date,'수집완료')\n",
    "    product_info['date'] = date # 날짜추가  \n",
    "    product_info_all = product_info_all.append(product_info)\n",
    "product_info_all.to_excel('../result/homemoa_prd_{date}.xlsx'.format(date = date), index=False)"
   ]
  },
  {
   "cell_type": "code",
   "execution_count": null,
   "metadata": {},
   "outputs": [],
   "source": [
    "product_info_all.to_excel('../result/homemoa_prd_{date}.xlsx'.format(date = date), index=False)"
   ]
  },
  {
   "cell_type": "code",
   "execution_count": null,
   "metadata": {},
   "outputs": [],
   "source": []
  }
 ],
 "metadata": {
  "interpreter": {
   "hash": "d02e13020deeba30db2b28aa9f3ef31aeb459cc830aa6f8f8cbe39f465d47923"
  },
  "kernelspec": {
   "display_name": "Python 3.7.10 64-bit ('crawler': conda)",
   "name": "python3"
  },
  "language_info": {
   "name": "python",
   "version": ""
  },
  "orig_nbformat": 4
 },
 "nbformat": 4,
 "nbformat_minor": 2
}